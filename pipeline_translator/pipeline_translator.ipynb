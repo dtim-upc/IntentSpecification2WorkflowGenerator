{
 "cells": [
  {
   "cell_type": "code",
   "execution_count": 9,
   "metadata": {
    "collapsed": true,
    "ExecuteTime": {
     "end_time": "2023-07-15T19:56:56.416859900Z",
     "start_time": "2023-07-15T19:56:56.386860700Z"
    }
   },
   "outputs": [],
   "source": [
    "import os\n",
    "import tempfile\n",
    "\n",
    "from common import *\n",
    "import xml.etree.ElementTree as ET\n"
   ]
  },
  {
   "cell_type": "code",
   "execution_count": 3,
   "outputs": [],
   "source": [
    "def load_workflow(path: str) -> Graph:\n",
    "    graph = get_graph()\n",
    "    graph.parse(path, format='turtle')\n",
    "    return graph"
   ],
   "metadata": {
    "collapsed": false,
    "ExecuteTime": {
     "end_time": "2023-07-15T19:43:45.933444400Z",
     "start_time": "2023-07-15T19:43:45.920447200Z"
    }
   }
  },
  {
   "cell_type": "code",
   "execution_count": 6,
   "outputs": [],
   "source": [
    "def get_workflow_steps(graph: Graph) -> list:\n",
    "    steps = list(graph.subjects(RDF.type, dtbox.Step))\n",
    "    return steps"
   ],
   "metadata": {
    "collapsed": false,
    "ExecuteTime": {
     "end_time": "2023-07-15T19:44:15.933341400Z",
     "start_time": "2023-07-15T19:44:15.910342200Z"
    }
   }
  },
  {
   "cell_type": "code",
   "execution_count": null,
   "outputs": [],
   "source": [
    "def get_base_config():\n",
    "    root = ET.Element('config', {'xmlns': 'http://www.knime.org/2008/09/XMLConfig',\n",
    "                                 'xmlns:xsi': 'http://www.w3.org/2001/XMLSchema-instance',\n",
    "                                 'xsi:schemaLocation': 'http://www.knime.org/2008/09/XMLConfig http://www.knime.org/XMLConfig_2008_09.xsd',\n",
    "                                 'key': 'settings.xml',\n",
    "                                 })\n",
    "    ET.SubElement(root, 'entry', {'key': 'node_file', 'type': 'xstring', 'value': 'settings.xml'})\n",
    "    ET.SubElement(root, 'entry', {'key': 'customDescription', 'type': 'xstring', 'isnull': 'true', 'value': ''})\n",
    "    #<entry key=\"state\" type=\"xstring\" value=\"CONFIGURED\"/>\n",
    "    ET.SubElement(root, 'entry', {'key': 'state', 'type': 'xstring', 'value': 'CONFIGURED'})\n",
    "    #\n",
    "    return root"
   ],
   "metadata": {
    "collapsed": false
   }
  },
  {
   "cell_type": "code",
   "execution_count": null,
   "outputs": [],
   "source": [
    "def create_step_file(ontology, workflow_graph, step, folder) -> None:\n",
    "    pass"
   ],
   "metadata": {
    "collapsed": false
   }
  },
  {
   "cell_type": "code",
   "execution_count": 8,
   "outputs": [],
   "source": [
    "ontology = get_ontology_graph()\n",
    "source_path = '../pipeline_generator/workflows/2023-07-15 21-40-38/workflow_0_DescriptionIntent_b949aa3c_e664_43eb_ae32_004cac74fd24.ttl'\n",
    "destination_path = './workflows/2023-07-15 20-27-10/workflow_10_DescriptionIntent_4762afff_2235_4c9e_b3ac_6876f5b634ed.knwf'\n",
    "\n",
    "temp_folder = tempfile.mkdtemp()"
   ],
   "metadata": {
    "collapsed": false,
    "ExecuteTime": {
     "end_time": "2023-07-15T19:44:48.008810100Z",
     "start_time": "2023-07-15T19:44:46.466288500Z"
    }
   }
  },
  {
   "cell_type": "code",
   "execution_count": 7,
   "outputs": [
    {
     "name": "stdout",
     "output_type": "stream",
     "text": [
      "[rdflib.term.URIRef('https://diviloper.dev/ontology/Workflow#workflow_0_DescriptionIntent_b949aa3c_e664_43eb_ae32_004cac74fd24-step_0_component_random_absolute_train_test_split'), rdflib.term.URIRef('https://diviloper.dev/ontology/Workflow#workflow_0_DescriptionIntent_b949aa3c_e664_43eb_ae32_004cac74fd24-step_1_component_decimal_scaling'), rdflib.term.URIRef('https://diviloper.dev/ontology/Workflow#workflow_0_DescriptionIntent_b949aa3c_e664_43eb_ae32_004cac74fd24-step_3_component_drop_rows_with_missing_values'), rdflib.term.URIRef('https://diviloper.dev/ontology/Workflow#workflow_0_DescriptionIntent_b949aa3c_e664_43eb_ae32_004cac74fd24-step_5_component_hypertangent_svm_learner'), rdflib.term.URIRef('https://diviloper.dev/ontology/Workflow#workflow_0_DescriptionIntent_b949aa3c_e664_43eb_ae32_004cac74fd24-step_2_component_normalizer_applier'), rdflib.term.URIRef('https://diviloper.dev/ontology/Workflow#workflow_0_DescriptionIntent_b949aa3c_e664_43eb_ae32_004cac74fd24-step_4_component_missing_value_management_applier'), rdflib.term.URIRef('https://diviloper.dev/ontology/Workflow#workflow_0_DescriptionIntent_b949aa3c_e664_43eb_ae32_004cac74fd24-step_6_component_svm_predictor')]\n"
     ]
    }
   ],
   "source": [
    "graph = load_workflow(source_path)\n",
    "steps = get_workflow_steps(graph)\n",
    "print(steps)"
   ],
   "metadata": {
    "collapsed": false,
    "ExecuteTime": {
     "end_time": "2023-07-15T19:44:22.579858400Z",
     "start_time": "2023-07-15T19:44:20.941860400Z"
    }
   }
  },
  {
   "cell_type": "code",
   "execution_count": null,
   "outputs": [],
   "source": [
    "def create_step_file()"
   ],
   "metadata": {
    "collapsed": false
   }
  },
  {
   "cell_type": "code",
   "execution_count": null,
   "outputs": [],
   "source": [],
   "metadata": {
    "collapsed": false
   }
  },
  {
   "cell_type": "code",
   "execution_count": null,
   "outputs": [],
   "source": [],
   "metadata": {
    "collapsed": false
   }
  },
  {
   "cell_type": "code",
   "execution_count": null,
   "outputs": [],
   "source": [],
   "metadata": {
    "collapsed": false
   }
  },
  {
   "cell_type": "code",
   "execution_count": null,
   "outputs": [],
   "source": [],
   "metadata": {
    "collapsed": false
   }
  },
  {
   "cell_type": "code",
   "execution_count": null,
   "outputs": [],
   "source": [],
   "metadata": {
    "collapsed": false
   }
  },
  {
   "cell_type": "code",
   "execution_count": null,
   "outputs": [],
   "source": [],
   "metadata": {
    "collapsed": false
   }
  },
  {
   "cell_type": "code",
   "execution_count": 0,
   "outputs": [],
   "source": [
    "def translate_graph(ontology, source_path, destination_path):\n",
    "    graph = load_workflow(source_path)\n",
    "    components = get_workflow_components(graph)\n"
   ],
   "metadata": {
    "collapsed": false
   }
  },
  {
   "cell_type": "code",
   "execution_count": null,
   "outputs": [],
   "source": [],
   "metadata": {
    "collapsed": false
   }
  },
  {
   "cell_type": "code",
   "execution_count": 4,
   "outputs": [
    {
     "data": {
      "text/plain": "<Graph identifier=N58bfe7a6d57f4156ab1905ae348c3d16 (<class 'rdflib.graph.Graph'>)>"
     },
     "execution_count": 4,
     "metadata": {},
     "output_type": "execute_result"
    }
   ],
   "source": [
    "def translate_graph_folder(ontology, source_folder, destination_folder):\n",
    "    workflows = [f for f in os.listdir(source_folder) if f.endswith('.ttl')]\n",
    "    for workflow in workflows:\n",
    "        source_path = os.path.join(source_folder, workflow)\n",
    "        destination_path = os.path.join(destination_folder, workflow[:-4] + '.knwf')\n",
    "        translate_graph(ontology, source_path, destination_path)"
   ],
   "metadata": {
    "collapsed": false,
    "ExecuteTime": {
     "end_time": "2023-07-11T11:44:21.367521300Z",
     "start_time": "2023-07-11T11:44:21.313523600Z"
    }
   }
  },
  {
   "cell_type": "code",
   "execution_count": null,
   "outputs": [],
   "source": [
    "session = '2023-07-15 20-27-10'\n",
    "translate_graph_folder(get_ontology_graph(), f'../pipline_generator/workflows/{session}', f'./workflows/{session}')"
   ],
   "metadata": {
    "collapsed": false
   }
  }
 ],
 "metadata": {
  "kernelspec": {
   "display_name": "Python 3",
   "language": "python",
   "name": "python3"
  },
  "language_info": {
   "codemirror_mode": {
    "name": "ipython",
    "version": 2
   },
   "file_extension": ".py",
   "mimetype": "text/x-python",
   "name": "python",
   "nbconvert_exporter": "python",
   "pygments_lexer": "ipython2",
   "version": "2.7.6"
  }
 },
 "nbformat": 4,
 "nbformat_minor": 0
}
