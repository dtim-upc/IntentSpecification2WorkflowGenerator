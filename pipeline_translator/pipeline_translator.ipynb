{
 "cells": [
  {
   "cell_type": "code",
   "execution_count": 18,
   "metadata": {
    "collapsed": true,
    "ExecuteTime": {
     "end_time": "2023-07-15T21:21:45.769547900Z",
     "start_time": "2023-07-15T21:21:45.756547500Z"
    }
   },
   "outputs": [],
   "source": [
    "import os\n",
    "import tempfile\n",
    "from typing import Tuple, Dict, List\n",
    "\n",
    "from common import *\n",
    "import xml.etree.ElementTree as ET\n"
   ]
  },
  {
   "cell_type": "code",
   "execution_count": 36,
   "outputs": [],
   "source": [
    "def load_workflow(path: str) -> Graph:\n",
    "    graph = get_graph()\n",
    "    graph.parse(path, format='turtle')\n",
    "    return graph"
   ],
   "metadata": {
    "collapsed": false,
    "ExecuteTime": {
     "end_time": "2023-07-15T21:32:06.410127Z",
     "start_time": "2023-07-15T21:32:06.393119600Z"
    }
   }
  },
  {
   "cell_type": "code",
   "execution_count": 37,
   "outputs": [],
   "source": [
    "def get_workflow_steps(graph: Graph) -> list:\n",
    "    steps = list(graph.subjects(RDF.type, dtbox.Step))\n",
    "    return steps"
   ],
   "metadata": {
    "collapsed": false,
    "ExecuteTime": {
     "end_time": "2023-07-15T21:32:06.582118100Z",
     "start_time": "2023-07-15T21:32:06.568131100Z"
    }
   }
  },
  {
   "cell_type": "code",
   "execution_count": 38,
   "outputs": [],
   "source": [
    "def get_base_config():\n",
    "    root = ET.Element('config', {'xmlns': 'http://www.knime.org/2008/09/XMLConfig',\n",
    "                                 'xmlns:xsi': 'http://www.w3.org/2001/XMLSchema-instance',\n",
    "                                 'xsi:schemaLocation': 'http://www.knime.org/2008/09/XMLConfig http://www.knime.org/XMLConfig_2008_09.xsd',\n",
    "                                 'key': 'settings.xml',\n",
    "                                 })\n",
    "\n",
    "    ET.SubElement(root, 'entry', {'key': 'node_file', 'type': 'xstring', 'value': 'settings.xml'})\n",
    "    ET.SubElement(root, 'entry', {'key': 'customDescription', 'type': 'xstring', 'isnull': 'true', 'value': ''})\n",
    "    ET.SubElement(root, 'entry', {'key': 'state', 'type': 'xstring', 'value': 'CONFIGURED'})\n",
    "    ET.SubElement(root, 'entry', {'key': 'hasContent', 'type': 'xboolean', 'value': 'false'})\n",
    "    ET.SubElement(root, 'entry', {'key': 'isInactive', 'type': 'xboolean', 'value': 'false'})\n",
    "    ET.SubElement(root, 'config', {'key': 'factory_settings'})\n",
    "    ET.SubElement(root, 'entry', {'key': 'node-feature-name', 'type': 'xstring', 'isnull': 'true', 'value': ''})\n",
    "    ET.SubElement(root, 'entry',\n",
    "                  {'key': 'node-feature-symbolic-name', 'type': 'xstring', 'isnull': 'true', 'value': ''})\n",
    "    ET.SubElement(root, 'entry', {'key': 'node-feature-vendor', 'type': 'xstring', 'isnull': 'true', 'value': ''})\n",
    "    ET.SubElement(root, 'entry', {'key': 'node-feature-version', 'type': 'xstring', 'value': '0.0.0'})\n",
    "\n",
    "    return ET.ElementTree(root)"
   ],
   "metadata": {
    "collapsed": false,
    "ExecuteTime": {
     "end_time": "2023-07-15T21:32:06.784132300Z",
     "start_time": "2023-07-15T21:32:06.777121100Z"
    }
   }
  },
  {
   "cell_type": "code",
   "execution_count": 39,
   "outputs": [],
   "source": [
    "def get_step_component_implementation(ontology: Graph, workflow_graph: Graph, step: URIRef) -> Tuple[URIRef, URIRef]:\n",
    "    component = next(workflow_graph.objects(step, dtbox.runs, True))\n",
    "    implementation = next(ontology.objects(component, dtbox.hasImplementation, True))\n",
    "    return component, implementation"
   ],
   "metadata": {
    "collapsed": false,
    "ExecuteTime": {
     "end_time": "2023-07-15T21:32:07.190119300Z",
     "start_time": "2023-07-15T21:32:07.174119800Z"
    }
   }
  },
  {
   "cell_type": "code",
   "execution_count": 46,
   "outputs": [],
   "source": [
    "def get_knime_properties(ontology: Graph, implementation: URIRef) -> Dict[str, str]:\n",
    "    results = {}\n",
    "    for p, o in ontology.predicate_objects(implementation):\n",
    "        if p.fragment.startswith('knime'):\n",
    "            results[p.fragment[6:]] =  o.value\n",
    "    return results"
   ],
   "metadata": {
    "collapsed": false,
    "ExecuteTime": {
     "end_time": "2023-07-15T21:33:03.740882700Z",
     "start_time": "2023-07-15T21:33:03.735868200Z"
    }
   }
  },
  {
   "cell_type": "code",
   "execution_count": 50,
   "outputs": [],
   "source": [
    "def create_step_file(ontology: Graph, workflow_graph:Graph, step:URIRef, folder, iterator: int) -> None:\n",
    "    tree = get_base_config()\n",
    "    root = tree.getroot()\n",
    "    component, implementation = get_step_component_implementation(ontology, workflow_graph, step)\n",
    "    properties = get_knime_properties(ontology, implementation)\n",
    "\n",
    "    for key, value in properties.items():\n",
    "        ET.SubElement(root, 'entry', {'key': key, 'type': 'xstring', 'value': value})\n",
    "\n",
    "    path_name = properties[\"node-name\"].replace('(', '_').replace(')', '_')\n",
    "    subfolder = os.path.join(folder, f'{path_name} (#{iterator})')\n",
    "    os.mkdir(subfolder)\n",
    "    tree.write(os.path.join(subfolder, 'settings.xml'), encoding='utf-8', xml_declaration=True)\n"
   ],
   "metadata": {
    "collapsed": false,
    "ExecuteTime": {
     "end_time": "2023-07-15T21:33:35.120093300Z",
     "start_time": "2023-07-15T21:33:35.098097800Z"
    }
   }
  },
  {
   "cell_type": "code",
   "execution_count": 32,
   "outputs": [
    {
     "name": "stdout",
     "output_type": "stream",
     "text": [
      "C:\\Users\\Victor\\AppData\\Local\\Temp\\tmp7r8scph2\n"
     ]
    }
   ],
   "source": [
    "ontology = get_ontology_graph()\n",
    "source_path = '../pipeline_generator/workflows/2023-07-15 21-40-38/workflow_0_DescriptionIntent_b949aa3c_e664_43eb_ae32_004cac74fd24.ttl'\n",
    "destination_path = './workflows/2023-07-15 20-27-10/workflow_10_DescriptionIntent_4762afff_2235_4c9e_b3ac_6876f5b634ed.knwf'\n",
    "\n",
    "temp_folder = tempfile.mkdtemp()\n",
    "print(temp_folder)"
   ],
   "metadata": {
    "collapsed": false,
    "ExecuteTime": {
     "end_time": "2023-07-15T21:31:44.188022400Z",
     "start_time": "2023-07-15T21:31:40.616062200Z"
    }
   }
  },
  {
   "cell_type": "code",
   "execution_count": 33,
   "outputs": [
    {
     "name": "stdout",
     "output_type": "stream",
     "text": [
      "[rdflib.term.URIRef('https://diviloper.dev/ontology/Workflow#workflow_0_DescriptionIntent_b949aa3c_e664_43eb_ae32_004cac74fd24-step_0_component_random_absolute_train_test_split'), rdflib.term.URIRef('https://diviloper.dev/ontology/Workflow#workflow_0_DescriptionIntent_b949aa3c_e664_43eb_ae32_004cac74fd24-step_1_component_decimal_scaling'), rdflib.term.URIRef('https://diviloper.dev/ontology/Workflow#workflow_0_DescriptionIntent_b949aa3c_e664_43eb_ae32_004cac74fd24-step_3_component_drop_rows_with_missing_values'), rdflib.term.URIRef('https://diviloper.dev/ontology/Workflow#workflow_0_DescriptionIntent_b949aa3c_e664_43eb_ae32_004cac74fd24-step_5_component_hypertangent_svm_learner'), rdflib.term.URIRef('https://diviloper.dev/ontology/Workflow#workflow_0_DescriptionIntent_b949aa3c_e664_43eb_ae32_004cac74fd24-step_2_component_normalizer_applier'), rdflib.term.URIRef('https://diviloper.dev/ontology/Workflow#workflow_0_DescriptionIntent_b949aa3c_e664_43eb_ae32_004cac74fd24-step_4_component_missing_value_management_applier'), rdflib.term.URIRef('https://diviloper.dev/ontology/Workflow#workflow_0_DescriptionIntent_b949aa3c_e664_43eb_ae32_004cac74fd24-step_6_component_svm_predictor')]\n"
     ]
    }
   ],
   "source": [
    "graph = load_workflow(source_path)\n",
    "steps = get_workflow_steps(graph)\n",
    "print(steps)"
   ],
   "metadata": {
    "collapsed": false,
    "ExecuteTime": {
     "end_time": "2023-07-15T21:31:52.223144400Z",
     "start_time": "2023-07-15T21:31:52.037143300Z"
    }
   }
  },
  {
   "cell_type": "code",
   "execution_count": 51,
   "outputs": [],
   "source": [
    "create_step_file(ontology, graph, steps[0], temp_folder, 0)"
   ],
   "metadata": {
    "collapsed": false,
    "ExecuteTime": {
     "end_time": "2023-07-15T21:33:37.021614Z",
     "start_time": "2023-07-15T21:33:37.002614900Z"
    }
   }
  },
  {
   "cell_type": "code",
   "execution_count": 10,
   "outputs": [],
   "source": [],
   "metadata": {
    "collapsed": false
   }
  },
  {
   "cell_type": "code",
   "execution_count": 29,
   "outputs": [],
   "source": [
    "def translate_graph_folder(ontology, source_folder, destination_folder):\n",
    "    workflows = [f for f in os.listdir(source_folder) if f.endswith('.ttl')]\n",
    "    for workflow in workflows:\n",
    "        source_path = os.path.join(source_folder, workflow)\n",
    "        destination_path = os.path.join(destination_folder, workflow[:-4] + '.knwf')\n",
    "        translate_graph(ontology, source_path, destination_path)"
   ],
   "metadata": {
    "collapsed": false
   }
  }
 ],
 "metadata": {
  "kernelspec": {
   "display_name": "Python 3",
   "language": "python",
   "name": "python3"
  },
  "language_info": {
   "codemirror_mode": {
    "name": "ipython",
    "version": 2
   },
   "file_extension": ".py",
   "mimetype": "text/x-python",
   "name": "python",
   "nbconvert_exporter": "python",
   "pygments_lexer": "ipython2",
   "version": "2.7.6"
  }
 },
 "nbformat": 4,
 "nbformat_minor": 0
}
