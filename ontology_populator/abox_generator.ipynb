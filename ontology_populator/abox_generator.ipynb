{
 "cells": [
  {
   "cell_type": "code",
   "execution_count": 1,
   "metadata": {
    "collapsed": true,
    "ExecuteTime": {
     "end_time": "2023-07-16T15:50:31.017829Z",
     "start_time": "2023-07-16T15:50:30.957828500Z"
    }
   },
   "outputs": [],
   "source": [
    "from common import *"
   ]
  },
  {
   "cell_type": "code",
   "execution_count": 2,
   "outputs": [],
   "source": [
    "abox = get_graph()"
   ],
   "metadata": {
    "collapsed": false,
    "ExecuteTime": {
     "end_time": "2023-07-16T15:50:31.034828900Z",
     "start_time": "2023-07-16T15:50:31.019830900Z"
    }
   }
  },
  {
   "cell_type": "markdown",
   "source": [
    "## Problems"
   ],
   "metadata": {
    "collapsed": false
   }
  },
  {
   "cell_type": "code",
   "execution_count": 3,
   "outputs": [],
   "source": [
    "problems = [\n",
    "    da.Description,\n",
    "    da.Explanation,\n",
    "    da.Prediction,\n",
    "    da.DataCleaning,\n",
    "    da.DataManagement,\n",
    "\n",
    "    da.Classification,\n",
    "    da.Clustering,\n",
    "    da.AnomalyDetection,\n",
    "\n",
    "    da.MissingValueManagement,\n",
    "    da.DuplicationRemoval,\n",
    "    da.Normalization,\n",
    "]\n",
    "subproblems = [\n",
    "    (da.Description, [da.Classification, da.Clustering, da.AnomalyDetection],),\n",
    "    (da.DataCleaning, [da.MissingValueManagement, da.DuplicationRemoval, da.Normalization],),\n",
    "]\n",
    "\n",
    "for p in problems:\n",
    "    abox.add((p, RDF.type, dtbox.Problem))\n",
    "\n",
    "for p, sps in subproblems:\n",
    "    for sp in sps:\n",
    "        abox.add((sp, dtbox.subProblemOf, p))"
   ],
   "metadata": {
    "collapsed": false,
    "ExecuteTime": {
     "end_time": "2023-07-16T15:50:31.053828500Z",
     "start_time": "2023-07-16T15:50:31.037834800Z"
    }
   }
  },
  {
   "cell_type": "markdown",
   "source": [
    "## Algorithms"
   ],
   "metadata": {
    "collapsed": false
   }
  },
  {
   "cell_type": "code",
   "execution_count": 4,
   "outputs": [],
   "source": [
    "algorithms = [\n",
    "    # Clustering\n",
    "    (da.KMeans, da.Clustering),\n",
    "    (da.DBSCAN, da.Clustering),\n",
    "    (da.HierarchicalClustering, da.Clustering),\n",
    "\n",
    "    # Classification\n",
    "    (da.DecisionTree, da.Classification),\n",
    "    (da.RandomForest, da.Classification),\n",
    "    (da.NaiveBayes, da.Classification),\n",
    "    (da.SVM, da.Classification),\n",
    "    (da.KNN, da.Classification),\n",
    "\n",
    "    # Anomaly Detection\n",
    "    (da.OneClassSVM, da.AnomalyDetection),\n",
    "    (da.IsolationForest, da.AnomalyDetection),\n",
    "    (da.LocalOutlierFactor, da.AnomalyDetection),\n",
    "\n",
    "    # Missing Value Management\n",
    "    (da.MeanImputation, da.MissingValueManagement),\n",
    "    (da.MedianImputation, da.MissingValueManagement),\n",
    "    (da.ModeImputation, da.MissingValueManagement),\n",
    "    (da.KNNImputation, da.MissingValueManagement),\n",
    "    (da.MissingValueRemoval, da.MissingValueManagement),\n",
    "\n",
    "    # Duplication Removal\n",
    "    (da.DuplicateRemoval, da.DuplicationRemoval),\n",
    "\n",
    "    # Normalization\n",
    "    (da.MinMaxScaling, da.Normalization),\n",
    "    (da.ZScoreScaling, da.Normalization),\n",
    "    (da.RobustNormalization, da.Normalization),\n",
    "\n",
    "    # Data Management\n",
    "    (da.TrainTestSplit, da.DataManagement),\n",
    "    (da.LabelExtraction, da.DataManagement),\n",
    "]\n",
    "\n",
    "for algorithm, problem in algorithms:\n",
    "    abox.add((algorithm, RDF.type, dtbox.Algorithm))\n",
    "    abox.add((algorithm, dtbox.solves, problem))"
   ],
   "metadata": {
    "collapsed": false,
    "ExecuteTime": {
     "end_time": "2023-07-16T15:50:31.066827100Z",
     "start_time": "2023-07-16T15:50:31.057830300Z"
    }
   }
  },
  {
   "cell_type": "markdown",
   "source": [
    "## Implementation"
   ],
   "metadata": {
    "collapsed": false
   }
  },
  {
   "cell_type": "code",
   "execution_count": 5,
   "outputs": [
    {
     "name": "stdout",
     "output_type": "stream",
     "text": [
      "Adding implementation Partitioning\n",
      "Adding implementation Decision Tree Learner\n",
      "Adding implementation Decision Tree Predictor\n",
      "Adding implementation Normalizer (PMML)\n",
      "Adding implementation Normalizer Apply (PMML)\n",
      "Adding implementation SVM Learner\n",
      "Adding implementation SVM Predictor\n",
      "Adding implementation Missing Value\n",
      "Adding implementation Missing Value (Applier)\n",
      "Adding implementation CSV Reader\n",
      "Adding component Random Relative Train-Test Split\n",
      "Adding component Random Absolute Train-Test Split\n",
      "Adding component Top K Relative Train-Test Split\n",
      "Adding component Top K Absolute Train-Test Split\n",
      "Adding component Decision Tree Learner\n",
      "Adding component Decision Tree Predictor\n",
      "Adding component Min-Max Scaling\n",
      "Adding component Z-Score Scaling\n",
      "Adding component Decimal Scaling\n",
      "Adding component Normalizer Applier\n",
      "Adding component Polynomial SVM Learner\n",
      "Adding component HyperTangent SVM Learner\n",
      "Adding component RBF SVM Learner\n",
      "Adding component SVM Predictor\n",
      "Adding component Drop Rows with Missing Values\n",
      "Adding component Mean Imputation\n",
      "Adding component Missing Value Management Applier\n",
      "Adding component CSV Local reader\n"
     ]
    }
   ],
   "source": [
    "from implementations.knime import implementations, components\n",
    "\n",
    "for implementation in implementations:\n",
    "    print(f'Adding implementation {implementation.name}')\n",
    "    implementation.add_to_graph(abox)\n",
    "\n",
    "for implementation in implementations:\n",
    "    implementation.add_counterpart_relationship(abox)\n",
    "\n",
    "for component in components:\n",
    "    print(f'Adding component {component.name}')\n",
    "    component.add_to_graph(abox)\n",
    "\n",
    "for component in components:\n",
    "    component.add_counterpart_relationship(abox)"
   ],
   "metadata": {
    "collapsed": false,
    "ExecuteTime": {
     "end_time": "2023-07-16T15:50:31.332827400Z",
     "start_time": "2023-07-16T15:50:31.068829600Z"
    }
   }
  },
  {
   "cell_type": "markdown",
   "source": [
    "## Models"
   ],
   "metadata": {
    "collapsed": false
   }
  },
  {
   "cell_type": "code",
   "execution_count": 6,
   "outputs": [],
   "source": [
    "models = [\n",
    "    dd.SVMModel,\n",
    "    dd.DecisionTreeModel,\n",
    "    dd.NormalizerModel,\n",
    "    dd.MissingValueModel,\n",
    "]\n",
    "\n",
    "abox.add((dd.Model, RDFS.subClassOf, dtbox.Data))\n",
    "for model in models:\n",
    "    abox.add((model, RDFS.subClassOf, dd.Model))"
   ],
   "metadata": {
    "collapsed": false,
    "ExecuteTime": {
     "end_time": "2023-07-16T15:50:31.379827900Z",
     "start_time": "2023-07-16T15:50:31.335852400Z"
    }
   }
  },
  {
   "cell_type": "markdown",
   "source": [
    "## Store"
   ],
   "metadata": {
    "collapsed": false
   }
  },
  {
   "cell_type": "code",
   "execution_count": 7,
   "outputs": [
    {
     "data": {
      "text/plain": "<Graph identifier=N7d8035bc372f4bb7bb3a8bb71e0a7367 (<class 'rdflib.graph.Graph'>)>"
     },
     "execution_count": 7,
     "metadata": {},
     "output_type": "execute_result"
    }
   ],
   "source": [
    "abox.serialize('../ontologies/abox.ttl', format='turtle')"
   ],
   "metadata": {
    "collapsed": false,
    "ExecuteTime": {
     "end_time": "2023-07-16T15:50:31.429828600Z",
     "start_time": "2023-07-16T15:50:31.351828400Z"
    }
   }
  }
 ],
 "metadata": {
  "kernelspec": {
   "display_name": "Python 3",
   "language": "python",
   "name": "python3"
  },
  "language_info": {
   "codemirror_mode": {
    "name": "ipython",
    "version": 2
   },
   "file_extension": ".py",
   "mimetype": "text/x-python",
   "name": "python",
   "nbconvert_exporter": "python",
   "pygments_lexer": "ipython2",
   "version": "2.7.6"
  }
 },
 "nbformat": 4,
 "nbformat_minor": 0
}
