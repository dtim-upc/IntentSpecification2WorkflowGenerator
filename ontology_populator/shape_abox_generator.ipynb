{
 "cells": [
  {
   "cell_type": "code",
   "execution_count": 1,
   "metadata": {
    "collapsed": true,
    "ExecuteTime": {
     "end_time": "2023-07-15T18:19:38.265741300Z",
     "start_time": "2023-07-15T18:19:38.178221400Z"
    }
   },
   "outputs": [],
   "source": [
    "from rdflib.collection import Collection\n",
    "\n",
    "from common import *"
   ]
  },
  {
   "cell_type": "code",
   "execution_count": 2,
   "outputs": [],
   "source": [
    "abox = get_graph()"
   ],
   "metadata": {
    "collapsed": false,
    "ExecuteTime": {
     "end_time": "2023-07-15T18:19:38.279223200Z",
     "start_time": "2023-07-15T18:19:38.267222400Z"
    }
   }
  },
  {
   "cell_type": "code",
   "execution_count": 3,
   "outputs": [
    {
     "data": {
      "text/plain": "<Graph identifier=N03c7543b9b724768a159ebc3f9fd3567 (<class 'rdflib.graph.Graph'>)>"
     },
     "execution_count": 3,
     "metadata": {},
     "output_type": "execute_result"
    }
   ],
   "source": [
    "# NonNullNumericFeatureColumnShape\n",
    "column_shape = ds.NonNullNumericFeatureColumnShape\n",
    "# column_shape = BNode()\n",
    "abox.add((column_shape, RDF.type, SH.NodeShape))\n",
    "\n",
    "numeric_column_property = ds.NumericColumnProperty\n",
    "# numeric_column_property = BNode()\n",
    "abox.add((numeric_column_property, SH.path, dmop.hasDataPrimitiveTypeColumn))\n",
    "abox.add((numeric_column_property, SH['in'],\n",
    "          Collection(abox, BNode(), seq=[dmop.Integer, dmop.Float]).uri))\n",
    "\n",
    "non_null_column_property = ds.NonNullColumnProperty\n",
    "# non_null_column_property = BNode()\n",
    "abox.add((non_null_column_property, SH.path, do.containsNulls))\n",
    "abox.add((non_null_column_property, SH.datatype, XSD.boolean))\n",
    "abox.add((non_null_column_property, SH.hasValue, Literal(False)))\n",
    "\n",
    "feature_column_property = ds.FeatureColumnProperty\n",
    "# feature_column_property = BNode()\n",
    "abox.add((feature_column_property, SH.path, do.isFeature))\n",
    "abox.add((feature_column_property, SH.datatype, XSD.boolean))\n",
    "abox.add((feature_column_property, SH.hasValue, Literal(True)))\n",
    "\n",
    "feature_column = ds.FeatureColumnShape\n",
    "# feature_column = BNode()\n",
    "abox.add((feature_column, RDF.type, SH.NodeShape))\n",
    "abox.add((feature_column, SH.targetClass, dmop.Column))\n",
    "abox.add((feature_column, SH.property, feature_column_property))\n",
    "\n",
    "abox.add((column_shape, SH.property, numeric_column_property))\n",
    "abox.add((column_shape, SH.property, non_null_column_property))\n",
    "abox.add((column_shape, SH.targetClass, feature_column))\n",
    "\n",
    "# NonNullNumericFeatureTabularDatasetShape\n",
    "non_null_numeric_tabular_dataset_shape = ds.NonNullNumericFeatureTabularDatasetShape\n",
    "abox.add((non_null_numeric_tabular_dataset_shape, RDF.type, SH.NodeShape))\n",
    "abox.add((non_null_numeric_tabular_dataset_shape, SH.targetClass, dmop.TabularDataset))\n",
    "\n",
    "bnode = BNode()\n",
    "abox.add((bnode, SH.path, dmop.hasColumn))\n",
    "abox.add((bnode, SH.node, column_shape))\n",
    "\n",
    "abox.add((non_null_numeric_tabular_dataset_shape, SH.property, bnode))\n",
    "\n",
    "# LabeledTabularDatasetShape\n",
    "\n",
    "label_column_property = ds.LabelColumnProperty\n",
    "abox.add((label_column_property, SH.path, dmop.isLabel))\n",
    "abox.add((label_column_property, SH.datatype, XSD.boolean))\n",
    "abox.add((label_column_property, SH.hasValue, Literal(True)))\n",
    "\n",
    "label_column_shape = ds.LabelColumnShape\n",
    "abox.add((label_column_shape, RDF.type, SH.NodeShape))\n",
    "abox.add((label_column_shape, SH.targetClass, dmop.Column))\n",
    "abox.add((label_column_shape, SH.property, label_column_property))\n",
    "\n",
    "labeled_dataset_shape = ds.LabeledTabularDatasetShape\n",
    "abox.add((labeled_dataset_shape, RDF.type, SH.NodeShape))\n",
    "abox.add((labeled_dataset_shape, SH.targetClass, dmop.TabularDataset))\n",
    "\n",
    "bnode_qualified = BNode()\n",
    "abox.add((bnode_qualified, SH.path, dmop.isLabel))\n",
    "abox.add((bnode_qualified, SH.hasValue, Literal(True)))\n",
    "\n",
    "bnode_column = BNode()\n",
    "abox.add((bnode_column, SH.path, dmop.hasColumn))\n",
    "abox.add((bnode_column, SH.qualifiedValueShape, bnode_qualified))\n",
    "abox.add((bnode_column, SH.qualifiedMinCount, Literal(1)))\n",
    "abox.add((bnode_column, SH.minCount, Literal(1)))\n",
    "\n",
    "abox.add((labeled_dataset_shape, SH.property, bnode_column))"
   ],
   "metadata": {
    "collapsed": false,
    "ExecuteTime": {
     "end_time": "2023-07-15T18:19:38.311220800Z",
     "start_time": "2023-07-15T18:19:38.300222200Z"
    }
   }
  },
  {
   "cell_type": "code",
   "execution_count": 4,
   "outputs": [
    {
     "data": {
      "text/plain": "<Graph identifier=N03c7543b9b724768a159ebc3f9fd3567 (<class 'rdflib.graph.Graph'>)>"
     },
     "execution_count": 4,
     "metadata": {},
     "output_type": "execute_result"
    }
   ],
   "source": [
    "non_null_column_shape = ds.NonNullColumnShape\n",
    "abox.add((non_null_column_shape, RDF.type, SH.NodeShape))\n",
    "abox.add((non_null_column_shape, SH.targetClass, dmop.Column))\n",
    "abox.add((non_null_column_shape, SH.property, non_null_column_property))\n",
    "\n",
    "bnode = BNode()\n",
    "abox.add((bnode, SH.path, dmop.hasColumn))\n",
    "abox.add((bnode, SH.node, non_null_column_shape))\n",
    "\n",
    "non_null_tabular_dataset_shape = ds.NonNullTabularDatasetShape\n",
    "abox.add((non_null_tabular_dataset_shape, RDF.type, SH.NodeShape))\n",
    "abox.add((non_null_tabular_dataset_shape, SH.targetClass, dmop.TabularDataset))\n",
    "abox.add((non_null_tabular_dataset_shape, SH.property, bnode))\n",
    "\n",
    "abox.add((ds.TabularDataset, RDF.type, SH.NodeShape))\n",
    "abox.add((ds.TabularDataset, RDF.type, dtbox.DataTag))\n",
    "abox.add((ds.TabularDataset, SH.targetClass, dmop.TabularDataset))\n",
    "\n",
    "numeric_column_shape = ds.NumericColumnShape\n",
    "abox.add((numeric_column_shape, RDF.type, SH.NodeShape))\n",
    "abox.add((numeric_column_shape, SH.targetClass, dmop.Column))\n",
    "abox.add((numeric_column_shape, SH.property, numeric_column_property))\n",
    "\n",
    "bnode = BNode()\n",
    "abox.add((bnode, SH.path, dmop.hasColumn))\n",
    "abox.add((bnode, SH.node, numeric_column_shape))\n",
    "\n",
    "numeric_tabular_dataset_shape = ds.NumericTabularDatasetShape\n",
    "abox.add((numeric_tabular_dataset_shape, RDF.type, SH.NodeShape))\n",
    "abox.add((numeric_tabular_dataset_shape, SH.targetClass, dmop.TabularDataset))\n",
    "abox.add((numeric_tabular_dataset_shape, SH.property, bnode))"
   ],
   "metadata": {
    "collapsed": false,
    "ExecuteTime": {
     "end_time": "2023-07-15T18:19:38.327221100Z",
     "start_time": "2023-07-15T18:19:38.317221400Z"
    }
   }
  },
  {
   "cell_type": "code",
   "execution_count": 5,
   "outputs": [
    {
     "data": {
      "text/plain": "<Graph identifier=N03c7543b9b724768a159ebc3f9fd3567 (<class 'rdflib.graph.Graph'>)>"
     },
     "execution_count": 5,
     "metadata": {},
     "output_type": "execute_result"
    }
   ],
   "source": [
    "abox.add((ds.isNormalizedConstraint, RDF.type, SH.PropertyConstraintComponent))\n",
    "abox.add((ds.isNormalizedConstraint, SH.path, dmop.isNormalized))\n",
    "abox.add((ds.isNormalizedConstraint, SH.datatype, XSD.boolean))\n",
    "abox.add((ds.isNormalizedConstraint, SH.hasValue, Literal(True)))\n",
    "\n",
    "abox.add((ds.NormalizedTabularDatasetShape, RDF.type, SH.NodeShape))\n",
    "abox.add((ds.NormalizedTabularDatasetShape, RDF.type, dtbox.DataTag))\n",
    "abox.add((ds.NormalizedTabularDatasetShape, SH.property, ds.isNormalizedConstraint))\n",
    "abox.add((ds.NormalizedTabularDatasetShape, SH.targetClass, dmop.TabularDataset))"
   ],
   "metadata": {
    "collapsed": false,
    "ExecuteTime": {
     "end_time": "2023-07-15T18:19:38.371219900Z",
     "start_time": "2023-07-15T18:19:38.333221500Z"
    }
   }
  },
  {
   "cell_type": "code",
   "execution_count": 6,
   "outputs": [],
   "source": [
    "models = [\n",
    "    'SVMModel',\n",
    "    'DecisionTreeModel',\n",
    "    'NormalizerModel',\n",
    "    'MissingValueModel',\n",
    "]\n",
    "\n",
    "for model in models:\n",
    "    abox.add((ds.term(model), RDF.type, SH.NodeShape))\n",
    "    abox.add((ds.term(model), RDF.type, dtbox.DataTag))\n",
    "    abox.add((ds.term(model), SH.targetClass, dd.term(model)))"
   ],
   "metadata": {
    "collapsed": false,
    "ExecuteTime": {
     "end_time": "2023-07-15T18:19:38.375554900Z",
     "start_time": "2023-07-15T18:19:38.344220200Z"
    }
   }
  },
  {
   "cell_type": "code",
   "execution_count": 7,
   "outputs": [
    {
     "data": {
      "text/plain": "<Graph identifier=N03c7543b9b724768a159ebc3f9fd3567 (<class 'rdflib.graph.Graph'>)>"
     },
     "execution_count": 7,
     "metadata": {},
     "output_type": "execute_result"
    }
   ],
   "source": [
    "abox.serialize('../ontologies/shapes_abox.ttl', format='turtle')"
   ],
   "metadata": {
    "collapsed": false,
    "ExecuteTime": {
     "end_time": "2023-07-15T18:19:38.375554900Z",
     "start_time": "2023-07-15T18:19:38.359221200Z"
    }
   }
  }
 ],
 "metadata": {
  "kernelspec": {
   "display_name": "Python 3",
   "language": "python",
   "name": "python3"
  },
  "language_info": {
   "codemirror_mode": {
    "name": "ipython",
    "version": 2
   },
   "file_extension": ".py",
   "mimetype": "text/x-python",
   "name": "python",
   "nbconvert_exporter": "python",
   "pygments_lexer": "ipython2",
   "version": "2.7.6"
  }
 },
 "nbformat": 4,
 "nbformat_minor": 0
}
