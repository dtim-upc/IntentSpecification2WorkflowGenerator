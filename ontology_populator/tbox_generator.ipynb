{
 "cells": [
  {
   "cell_type": "code",
   "execution_count": 1,
   "metadata": {
    "collapsed": true,
    "ExecuteTime": {
     "end_time": "2023-08-03T16:04:55.054717300Z",
     "start_time": "2023-08-03T16:04:54.972717900Z"
    }
   },
   "outputs": [],
   "source": [
    "from rdflib.collection import Collection\n",
    "\n",
    "from common import *"
   ]
  },
  {
   "cell_type": "markdown",
   "source": [
    "## Helper Functions"
   ],
   "metadata": {
    "collapsed": false
   }
  },
  {
   "cell_type": "code",
   "execution_count": 2,
   "outputs": [],
   "source": [
    "def add_class(graph, nodes):\n",
    "    l = nodes if isinstance(nodes, list) else [nodes]\n",
    "    for node in l:\n",
    "        graph.add((node, RDF.type, OWL.Class))"
   ],
   "metadata": {
    "collapsed": false,
    "ExecuteTime": {
     "end_time": "2023-08-03T16:04:55.070715600Z",
     "start_time": "2023-08-03T16:04:55.052717800Z"
    }
   }
  },
  {
   "cell_type": "code",
   "execution_count": 3,
   "outputs": [],
   "source": [
    "def add_union(graph, nodes):\n",
    "    sequence = Collection(graph, BNode(), nodes)\n",
    "    union = BNode()\n",
    "    graph.add((union, OWL.unionOf, sequence.uri))\n",
    "    return union"
   ],
   "metadata": {
    "collapsed": false,
    "ExecuteTime": {
     "end_time": "2023-08-03T16:04:55.096714400Z",
     "start_time": "2023-08-03T16:04:55.067714900Z"
    }
   }
  },
  {
   "cell_type": "code",
   "execution_count": 4,
   "outputs": [],
   "source": [
    "def add_object_property(graph, property, domain, range):\n",
    "    graph.add((property, RDF.type, OWL.ObjectProperty))\n",
    "    if domain:\n",
    "        graph.add((property, RDFS.domain, add_union(graph, domain) if isinstance(domain, list) else domain))\n",
    "    if range:\n",
    "        graph.add((property, RDFS.range, add_union(graph, range) if isinstance(range, list) else range))\n",
    "\n",
    "\n",
    "def add_datatype_property(graph, property, domain, range):\n",
    "    if isinstance(range, list):\n",
    "        for r in range:\n",
    "            assert r in XSD\n",
    "    else:\n",
    "        assert range in XSD\n",
    "    graph.add((property, RDF.type, OWL.DatatypeProperty))\n",
    "    if domain:\n",
    "        graph.add((property, RDFS.domain, add_union(graph, domain) if isinstance(domain, list) else domain))\n",
    "    if range:\n",
    "        graph.add((property, RDFS.range, add_union(graph, range) if isinstance(range, list) else range))\n",
    "\n",
    "\n",
    "def add_property(graph, property, domain, range):\n",
    "    graph.add((property, RDF.type, RDF.Property))\n",
    "    if domain:\n",
    "        graph.add((property, RDFS.domain, add_union(graph, domain) if isinstance(domain, list) else domain))\n",
    "    if range:\n",
    "        graph.add((property, RDFS.range, add_union(graph, range) if isinstance(range, list) else range))"
   ],
   "metadata": {
    "collapsed": false,
    "ExecuteTime": {
     "end_time": "2023-08-03T16:04:55.097715Z",
     "start_time": "2023-08-03T16:04:55.086713300Z"
    }
   }
  },
  {
   "cell_type": "markdown",
   "source": [
    "# Ontology Building"
   ],
   "metadata": {
    "collapsed": false
   }
  },
  {
   "cell_type": "code",
   "execution_count": 5,
   "outputs": [],
   "source": [
    "ontology = get_graph_xp()"
   ],
   "metadata": {
    "collapsed": false,
    "ExecuteTime": {
     "end_time": "2023-08-03T16:04:55.115714600Z",
     "start_time": "2023-08-03T16:04:55.097715Z"
    }
   }
  },
  {
   "cell_type": "markdown",
   "source": [
    "## Classes"
   ],
   "metadata": {
    "collapsed": false
   }
  },
  {
   "cell_type": "code",
   "execution_count": 6,
   "outputs": [],
   "source": [
    "classes = [\n",
    "    dtbox.Data,\n",
    "    dtbox.Intent,\n",
    "    dtbox.Problem,\n",
    "    dtbox.Algorithm,\n",
    "    dtbox.Workflow,\n",
    "    dtbox.DataTag,\n",
    "    dtbox.Step,\n",
    "    dtbox.Component,\n",
    "    dtbox.LearnerComponent,\n",
    "    dtbox.ApplierComponent,\n",
    "    dtbox.Implementation,\n",
    "    dtbox.LearnerImplementation,\n",
    "    dtbox.ApplierImplementation,\n",
    "    dtbox.Parameter,\n",
    "    dtbox.ParameterValue,\n",
    "    dtbox.Transformation,\n",
    "    dtbox.CopyTransformation,\n",
    "    dtbox.LoaderTransformation,\n",
    "    dtbox.IOSpec,\n",
    "    dtbox.IO,\n",
    "]\n",
    "add_class(ontology, classes)"
   ],
   "metadata": {
    "collapsed": false,
    "ExecuteTime": {
     "end_time": "2023-08-03T16:04:55.133714800Z",
     "start_time": "2023-08-03T16:04:55.114714500Z"
    }
   }
  },
  {
   "cell_type": "code",
   "execution_count": 7,
   "outputs": [
    {
     "data": {
      "text/plain": "<Graph identifier=Nbb76eb4ea02f4f859bb3d4910e4b418c (<class 'rdflib.graph.Graph'>)>"
     },
     "execution_count": 7,
     "metadata": {},
     "output_type": "execute_result"
    }
   ],
   "source": [
    "ontology.add((dtbox.CopyTransformation, RDFS.subClassOf, dtbox.Transformation))\n",
    "ontology.add((dtbox.LoaderTransformation, RDFS.subClassOf, dtbox.Transformation))\n",
    "\n",
    "ontology.add((dtbox.LearnerImplementation, RDFS.subClassOf, dtbox.Implementation))\n",
    "ontology.add((dtbox.ApplierImplementation, RDFS.subClassOf, dtbox.Implementation))\n",
    "ontology.add((dtbox.LearnerImplementation, OWL.disjointWith, dtbox.ApplierImplementation))\n",
    "\n",
    "ontology.add((dtbox.LearnerComponent, RDFS.subClassOf, dtbox.Component))\n",
    "ontology.add((dtbox.ApplierComponent, RDFS.subClassOf, dtbox.Component))\n",
    "ontology.add((dtbox.LearnerComponent, OWL.disjointWith, dtbox.ApplierComponent))"
   ],
   "metadata": {
    "collapsed": false,
    "ExecuteTime": {
     "end_time": "2023-08-03T16:04:55.152715700Z",
     "start_time": "2023-08-03T16:04:55.134715200Z"
    }
   }
  },
  {
   "cell_type": "markdown",
   "source": [
    "## Object Properties"
   ],
   "metadata": {
    "collapsed": false
   }
  },
  {
   "cell_type": "code",
   "execution_count": 8,
   "outputs": [],
   "source": [
    "properties = [\n",
    "    # Intent\n",
    "    (dtbox.overData, dtbox.Intent, dtbox.Data),\n",
    "    (dtbox.tackles, dtbox.Intent, [dtbox.Problem, dtbox.Algorithm]),\n",
    "    (dtbox.usingParameter, dtbox.Intent, [dtbox.Parameter, dtbox.ParameterValue]),\n",
    "    (dtbox.createdFor, dtbox.Workflow, dtbox.Intent),\n",
    "    # Problem\n",
    "    (dtbox.subProblemOf, dtbox.Problem, dtbox.Problem),\n",
    "    (dtbox.solves, [dtbox.Algorithm, dtbox.Workflow], dtbox.Problem),\n",
    "    # Workflow\n",
    "    (dtbox.applies, dtbox.Workflow, dtbox.Algorithm),\n",
    "    (dtbox.hasStep, dtbox.Workflow, dtbox.Step),\n",
    "    # Workflow / Implementation\n",
    "    (dtbox.hasParameter, [dtbox.Workflow, dtbox.Implementation], dtbox.Parameter),\n",
    "    (dtbox.specifiesInput, [dtbox.Workflow, dtbox.Implementation], dtbox.IOSpec),\n",
    "    (dtbox.specifiesOutput, [dtbox.Workflow, dtbox.Implementation], dtbox.IOSpec),\n",
    "    # Implementation\n",
    "    (dtbox.hasParameter, dtbox.Implementation, dtbox.Parameter),\n",
    "    (dtbox.hasLearner, dtbox.ApplierImplementation, dtbox.LearnerImplementation),\n",
    "    (dtbox.hasApplier, dtbox.LearnerImplementation, dtbox.ApplierImplementation),\n",
    "    # Component\n",
    "    (dtbox.hasTransformation, dtbox.Component, RDF.List),\n",
    "    (dtbox.hasImplementation, dtbox.Component, dtbox.Implementation),\n",
    "    (dtbox.overridesParameter, dtbox.Component, dtbox.ParameterValue),\n",
    "    (dtbox.exposesParameter, dtbox.Component, dtbox.Parameter),\n",
    "    (dtbox.hasLearner, dtbox.ApplierComponent, dtbox.LearnerComponent),\n",
    "    (dtbox.hasApplier, dtbox.LearnerComponent, dtbox.ApplierComponent),\n",
    "    # Step\n",
    "    (dtbox.followedBy, dtbox.Step, dtbox.Step),\n",
    "    (dtbox.runs, dtbox.Step, [dtbox.Workflow, dtbox.Implementation]),\n",
    "    (dtbox.hasParameterValue, dtbox.Step, dtbox.ParameterValue),\n",
    "    (dtbox.hasInput, dtbox.Step, dtbox.IO),\n",
    "    (dtbox.hasOutput, dtbox.Step, dtbox.IO),\n",
    "    # Parameter\n",
    "    (dtbox.forParameter, dtbox.ParameterValue, dtbox.Parameter),\n",
    "    (dtbox.hasDatatype, dtbox.Parameter, None),\n",
    "    (dtbox.hasDefaultValue, dtbox.Parameter, None),\n",
    "    # Data\n",
    "    # (dtbox.conformsTo, dtbox.Data, dtbox.DataTag),\n",
    "    # IOSpec\n",
    "    (dtbox.hasTag, dtbox.IOSpec, dtbox.DataTag),\n",
    "    # IO\n",
    "    (dtbox.hasData, dtbox.IOSpec, dtbox.Data),\n",
    "]\n",
    "for s, p, o in properties:\n",
    "    add_object_property(ontology, s, p, o)"
   ],
   "metadata": {
    "collapsed": false,
    "ExecuteTime": {
     "end_time": "2023-08-03T16:04:55.189714300Z",
     "start_time": "2023-08-03T16:04:55.151713700Z"
    }
   }
  },
  {
   "cell_type": "code",
   "execution_count": 9,
   "outputs": [
    {
     "data": {
      "text/plain": "<Graph identifier=Nbb76eb4ea02f4f859bb3d4910e4b418c (<class 'rdflib.graph.Graph'>)>"
     },
     "execution_count": 9,
     "metadata": {},
     "output_type": "execute_result"
    }
   ],
   "source": [
    "ontology.add((dtbox.subProblemOf, RDF.type, OWL.TransitiveProperty))"
   ],
   "metadata": {
    "collapsed": false,
    "ExecuteTime": {
     "end_time": "2023-08-03T16:04:55.201714700Z",
     "start_time": "2023-08-03T16:04:55.162714100Z"
    }
   }
  },
  {
   "cell_type": "markdown",
   "source": [
    "## Datatype Properties"
   ],
   "metadata": {
    "collapsed": false
   }
  },
  {
   "cell_type": "code",
   "execution_count": 10,
   "outputs": [],
   "source": [
    "dproperties = [\n",
    "    # Transformation\n",
    "    (dtbox.copy_input, dtbox.CopyTransformation, XSD.integer),\n",
    "    (dtbox.copy_output, dtbox.CopyTransformation, XSD.integer),\n",
    "    (dtbox.transformation_language, dtbox.Transformation, XSD.string),\n",
    "    (dtbox.transformation_query, dtbox.Transformation, XSD.string),\n",
    "    # IO\n",
    "    (dtbox.has_position, [dtbox.IO, dtbox.IOSpec, dtbox.Step, dtbox.Parameter], XSD.integer),\n",
    "]\n",
    "\n",
    "for s, p, o in dproperties:\n",
    "    add_datatype_property(ontology, s, p, o)"
   ],
   "metadata": {
    "collapsed": false,
    "ExecuteTime": {
     "end_time": "2023-08-03T16:04:55.202714600Z",
     "start_time": "2023-08-03T16:04:55.178714500Z"
    }
   }
  },
  {
   "cell_type": "markdown",
   "source": [
    "## Open Properties (no Range or Domain)"
   ],
   "metadata": {
    "collapsed": false
   }
  },
  {
   "cell_type": "code",
   "execution_count": 11,
   "outputs": [],
   "source": [
    "oproperties = [\n",
    "    (dtbox.has_value, dtbox.ParameterValue, None),\n",
    "]\n",
    "\n",
    "for s, p, o in oproperties:\n",
    "    add_property(ontology, s, p, o)"
   ],
   "metadata": {
    "collapsed": false,
    "ExecuteTime": {
     "end_time": "2023-08-03T16:04:55.211714400Z",
     "start_time": "2023-08-03T16:04:55.192714100Z"
    }
   }
  },
  {
   "cell_type": "markdown",
   "source": [
    "## Data Properties\n",
    "These properties are used temporarily to store information that belongs to the ontology used for data representation"
   ],
   "metadata": {
    "collapsed": false
   }
  },
  {
   "cell_type": "code",
   "execution_count": 12,
   "outputs": [],
   "source": [
    "properties = [\n",
    "    # Column\n",
    "    (dmop.hasColumnName, dmop.ColumnInfoProperty),\n",
    "    (dmop.hasDataPrimitiveTypeColumn, dmop.ColumnInfoProperty),\n",
    "    (dmop.hasPosition, dmop.ColumnInfoProperty),\n",
    "    (dmop.isCategorical, dmop.ColumnInfoProperty),\n",
    "    (dmop.isFeature, dmop.ColumnInfoProperty),\n",
    "    (dmop.isLabel, dmop.ColumnInfoProperty),\n",
    "    (dmop.isUnique, dmop.ColumnInfoProperty),\n",
    "    (dmop.containsNulls, dmop.ColumnValueInfoProperty),\n",
    "    (dmop.hasMeanValue, dmop.ColumnValueInfoProperty),\n",
    "    (dmop.hasStandardDeviation, dmop.ColumnValueInfoProperty),\n",
    "    (dmop.hasMaxValue, dmop.ColumnValueInfoProperty),\n",
    "    (dmop.hasMinValue, dmop.ColumnValueInfoProperty),\n",
    "\n",
    "    # Dataset\n",
    "    (dmop.delimiter, dmop.DatasetPhysicalProperty),\n",
    "    (dmop.doubleQuote, dmop.DatasetPhysicalProperty),\n",
    "    (dmop.encoding, dmop.DatasetPhysicalProperty),\n",
    "    (dmop.fileFormat, dmop.DatasetPhysicalProperty),\n",
    "    (dmop.hasHeader, dmop.DatasetPhysicalProperty),\n",
    "    (dmop.isNormalized, dmop.DatasetValueInfoProperty),\n",
    "    (dmop.lineDelimiter, dmop.DatasetPhysicalProperty),\n",
    "    (dmop.numberOfColumns, dmop.DatasetInfoProperty),\n",
    "    (dmop.numberOfRows, dmop.DatasetInfoProperty),\n",
    "    (dmop.path, dmop.DatasetPhysicalProperty),\n",
    "    (dmop.quoteChar, dmop.DatasetPhysicalProperty),\n",
    "    (dmop.skipInitialSpace, dmop.DatasetPhysicalProperty),\n",
    "]\n",
    "\n",
    "for s, o in properties:\n",
    "    ontology.add((s, RDFS.subPropertyOf, o))"
   ],
   "metadata": {
    "collapsed": false,
    "ExecuteTime": {
     "end_time": "2023-08-03T16:04:55.252714100Z",
     "start_time": "2023-08-03T16:04:55.210714600Z"
    }
   }
  },
  {
   "cell_type": "markdown",
   "source": [
    "## Store"
   ],
   "metadata": {
    "collapsed": false
   }
  },
  {
   "cell_type": "code",
   "execution_count": 13,
   "outputs": [
    {
     "data": {
      "text/plain": "<Graph identifier=Nbb76eb4ea02f4f859bb3d4910e4b418c (<class 'rdflib.graph.Graph'>)>"
     },
     "execution_count": 13,
     "metadata": {},
     "output_type": "execute_result"
    }
   ],
   "source": [
    "ontology.serialize('../ontologies/tbox.ttl', format='turtle')"
   ],
   "metadata": {
    "collapsed": false,
    "ExecuteTime": {
     "end_time": "2023-08-03T16:04:55.262714600Z",
     "start_time": "2023-08-03T16:04:55.223715500Z"
    }
   }
  },
  {
   "cell_type": "markdown",
   "source": [
    "## Shape"
   ],
   "metadata": {
    "collapsed": false
   }
  },
  {
   "cell_type": "code",
   "execution_count": 14,
   "outputs": [
    {
     "name": "stdout",
     "output_type": "stream",
     "text": [
      "@prefix owl: <http://www.w3.org/2002/07/owl#> .\n",
      "@prefix rdf: <http://www.w3.org/1999/02/22-rdf-syntax-ns#> .\n",
      "@prefix sh: <http://www.w3.org/ns/shacl#> .\n",
      "@prefix tb: <https://extremexp.eu/ontology/tbox#> .\n",
      "@prefix xsd: <http://www.w3.org/2001/XMLSchema#> .\n",
      "\n",
      "tb:IntentShape a sh:NodeShape ;\n",
      "    sh:property tb:overDataConstraint,\n",
      "        tb:problemOrAlgorithmConstraint ;\n",
      "    sh:targetClass tb:Intent .\n",
      "\n",
      "tb:overDataConstraint sh:class tb:Data ;\n",
      "    sh:maxCount 1 ;\n",
      "    sh:minCount 1 ;\n",
      "    sh:path tb:overData .\n",
      "\n",
      "tb:problemOrAlgorithmConstraint sh:class [ owl:unionOf ( tb:Problem tb:Algorithm ) ] ;\n",
      "    sh:maxCount 1 ;\n",
      "    sh:minCount 1 ;\n",
      "    sh:path tb:tackles .\n",
      "\n"
     ]
    }
   ],
   "source": [
    "# Define the SHACL shape\n",
    "g = get_graph_xp()\n",
    "\n",
    "shape_node = tb.IntentShape\n",
    "g.add((shape_node, RDF.type, SH.NodeShape))\n",
    "g.add((shape_node, SH.targetClass, tb.Intent))\n",
    "\n",
    "# Add constraints for linking to tb:Data with tb:overData property\n",
    "g.add((shape_node, SH.property, tb.overDataConstraint))\n",
    "g.add((tb.overDataConstraint, SH.path, tb.overData))\n",
    "g.add((tb.overDataConstraint, SH['class'], tb.Data))\n",
    "g.add((tb.overDataConstraint, SH.minCount, Literal(1)))\n",
    "g.add((tb.overDataConstraint, SH.maxCount, Literal(1)))\n",
    "\n",
    "# Add constraints for linking to tb:Problem or tb:Algorithm\n",
    "g.add((shape_node, SH.property, tb.problemOrAlgorithmConstraint))\n",
    "g.add((tb.problemOrAlgorithmConstraint, SH.path, tb.tackles))\n",
    "g.add((tb.problemOrAlgorithmConstraint, SH['class'], add_union(g, [tb.Problem, tb.Algorithm])))\n",
    "g.add((tb.problemOrAlgorithmConstraint, SH.minCount, Literal(1)))\n",
    "g.add((tb.problemOrAlgorithmConstraint, SH.maxCount, Literal(1)))\n",
    "\n",
    "print(g.serialize(format=\"turtle\"))"
   ],
   "metadata": {
    "collapsed": false,
    "ExecuteTime": {
     "end_time": "2023-08-03T16:04:55.263714600Z",
     "start_time": "2023-08-03T16:04:55.243712800Z"
    }
   }
  }
 ],
 "metadata": {
  "kernelspec": {
   "display_name": "Python 3",
   "language": "python",
   "name": "python3"
  },
  "language_info": {
   "codemirror_mode": {
    "name": "ipython",
    "version": 2
   },
   "file_extension": ".py",
   "mimetype": "text/x-python",
   "name": "python",
   "nbconvert_exporter": "python",
   "pygments_lexer": "ipython2",
   "version": "2.7.6"
  }
 },
 "nbformat": 4,
 "nbformat_minor": 0
}
