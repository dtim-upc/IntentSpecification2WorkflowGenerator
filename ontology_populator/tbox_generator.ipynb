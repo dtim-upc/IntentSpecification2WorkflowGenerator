{
 "cells": [
  {
   "cell_type": "code",
   "execution_count": 14,
   "metadata": {
    "collapsed": true,
    "ExecuteTime": {
     "end_time": "2023-06-27T18:49:07.413802500Z",
     "start_time": "2023-06-27T18:49:07.378802600Z"
    }
   },
   "outputs": [],
   "source": [
    "from rdflib.collection import Collection\n",
    "\n",
    "from common import *"
   ]
  },
  {
   "cell_type": "markdown",
   "source": [
    "## Helper Functions"
   ],
   "metadata": {
    "collapsed": false
   }
  },
  {
   "cell_type": "code",
   "execution_count": 15,
   "outputs": [],
   "source": [
    "def add_class(graph, nodes):\n",
    "    l = nodes if isinstance(nodes, list) else [nodes]\n",
    "    for node in l:\n",
    "        graph.add((node, RDF.type, OWL.Class))"
   ],
   "metadata": {
    "collapsed": false,
    "ExecuteTime": {
     "end_time": "2023-06-27T18:49:07.458803200Z",
     "start_time": "2023-06-27T18:49:07.386802800Z"
    }
   }
  },
  {
   "cell_type": "code",
   "execution_count": 16,
   "outputs": [],
   "source": [
    "def add_union(graph, nodes):\n",
    "    sequence = Collection(graph, BNode(), nodes)\n",
    "    union = BNode()\n",
    "    graph.add((union, OWL.unionOf, sequence.uri))\n",
    "    return union"
   ],
   "metadata": {
    "collapsed": false,
    "ExecuteTime": {
     "end_time": "2023-06-27T18:49:07.459803Z",
     "start_time": "2023-06-27T18:49:07.402802700Z"
    }
   }
  },
  {
   "cell_type": "code",
   "execution_count": 17,
   "outputs": [],
   "source": [
    "def add_object_property(graph, property, domain, range):\n",
    "    graph.add((property, RDF.type, OWL.ObjectProperty))\n",
    "    if domain:\n",
    "        graph.add((property, RDFS.domain, add_union(graph, domain) if isinstance(domain, list) else domain))\n",
    "    if range:\n",
    "        graph.add((property, RDFS.range, add_union(graph, range) if isinstance(range, list) else range))\n",
    "\n",
    "\n",
    "def add_datatype_property(graph, property, domain, range):\n",
    "    if isinstance(range, list):\n",
    "        for r in range:\n",
    "            assert r in XSD\n",
    "    else:\n",
    "        assert range in XSD\n",
    "    graph.add((property, RDF.type, OWL.DatatypeProperty))\n",
    "    if domain:\n",
    "        graph.add((property, RDFS.domain, add_union(graph, domain) if isinstance(domain, list) else domain))\n",
    "    if range:\n",
    "        graph.add((property, RDFS.range, add_union(graph, range) if isinstance(range, list) else range))\n",
    "\n",
    "\n",
    "def add_property(graph, property, domain, range):\n",
    "    graph.add((property, RDF.type, RDF.Property))\n",
    "    if domain:\n",
    "        graph.add((property, RDFS.domain, add_union(graph, domain) if isinstance(domain, list) else domain))\n",
    "    if range:\n",
    "        graph.add((property, RDFS.range, add_union(graph, range) if isinstance(range, list) else range))"
   ],
   "metadata": {
    "collapsed": false,
    "ExecuteTime": {
     "end_time": "2023-06-27T18:49:07.460803400Z",
     "start_time": "2023-06-27T18:49:07.421802300Z"
    }
   }
  },
  {
   "cell_type": "markdown",
   "source": [
    "# Ontology Building"
   ],
   "metadata": {
    "collapsed": false
   }
  },
  {
   "cell_type": "code",
   "execution_count": 18,
   "outputs": [],
   "source": [
    "ontology = get_graph()"
   ],
   "metadata": {
    "collapsed": false,
    "ExecuteTime": {
     "end_time": "2023-06-27T18:49:07.461803Z",
     "start_time": "2023-06-27T18:49:07.432802600Z"
    }
   }
  },
  {
   "cell_type": "markdown",
   "source": [
    "## Classes"
   ],
   "metadata": {
    "collapsed": false
   }
  },
  {
   "cell_type": "code",
   "execution_count": 19,
   "outputs": [],
   "source": [
    "classes = [\n",
    "    dtbox.Data,\n",
    "    dtbox.Intent,\n",
    "    dtbox.Problem,\n",
    "    dtbox.Algorithm,\n",
    "    dtbox.Workflow,\n",
    "    dtbox.DataTag,\n",
    "    dtbox.Step,\n",
    "    dtbox.Component,\n",
    "    dtbox.LearnerComponent,\n",
    "    dtbox.ApplierComponent,\n",
    "    dtbox.Implementation,\n",
    "    dtbox.LearnerImplementation,\n",
    "    dtbox.ApplierImplementation,\n",
    "    dtbox.Parameter,\n",
    "    dtbox.ParameterValue,\n",
    "    dtbox.Transformation,\n",
    "    dtbox.CopyTransformation,\n",
    "    dtbox.IOSpec,\n",
    "    dtbox.IO,\n",
    "]\n",
    "add_class(ontology, classes)"
   ],
   "metadata": {
    "collapsed": false,
    "ExecuteTime": {
     "end_time": "2023-06-27T18:49:07.470803100Z",
     "start_time": "2023-06-27T18:49:07.449803100Z"
    }
   }
  },
  {
   "cell_type": "code",
   "execution_count": 20,
   "outputs": [
    {
     "data": {
      "text/plain": "<Graph identifier=N48ac93cd4eb947489b87ff139a27a4b6 (<class 'rdflib.graph.Graph'>)>"
     },
     "execution_count": 20,
     "metadata": {},
     "output_type": "execute_result"
    }
   ],
   "source": [
    "ontology.add((dtbox.CopyTransformation, RDFS.subClassOf, dtbox.Transformation))\n",
    "\n",
    "ontology.add((dtbox.LearnerImplementation, RDFS.subClassOf, dtbox.Implementation))\n",
    "ontology.add((dtbox.ApplierImplementation, RDFS.subClassOf, dtbox.Implementation))\n",
    "ontology.add((dtbox.LearnerImplementation, OWL.disjointWith, dtbox.ApplierImplementation))\n",
    "\n",
    "ontology.add((dtbox.LearnerComponent, RDFS.subClassOf, dtbox.Component))\n",
    "ontology.add((dtbox.ApplierComponent, RDFS.subClassOf, dtbox.Component))\n",
    "ontology.add((dtbox.LearnerComponent, OWL.disjointWith, dtbox.ApplierComponent))"
   ],
   "metadata": {
    "collapsed": false,
    "ExecuteTime": {
     "end_time": "2023-06-27T18:49:07.484802900Z",
     "start_time": "2023-06-27T18:49:07.465802500Z"
    }
   }
  },
  {
   "cell_type": "markdown",
   "source": [
    "## Object Properties"
   ],
   "metadata": {
    "collapsed": false
   }
  },
  {
   "cell_type": "code",
   "execution_count": 21,
   "outputs": [],
   "source": [
    "properties = [\n",
    "    # Intent\n",
    "    (dtbox.overData, dtbox.Intent, dtbox.Data),\n",
    "    (dtbox.tackles, dtbox.Intent, [dtbox.Problem, dtbox.Algorithm]),\n",
    "    (dtbox.usingParameter, dtbox.Intent, [dtbox.Parameter, dtbox.ParameterValue]),\n",
    "    (dtbox.createdFor, dtbox.Workflow, dtbox.Intent),\n",
    "    # Problem\n",
    "    (dtbox.subProblemOf, dtbox.Problem, dtbox.Problem),\n",
    "    (dtbox.solves, [dtbox.Algorithm, dtbox.Workflow], dtbox.Problem),\n",
    "    # Workflow\n",
    "    (dtbox.applies, dtbox.Workflow, dtbox.Algorithm),\n",
    "    (dtbox.hasStep, dtbox.Workflow, dtbox.Step),\n",
    "    # Workflow / Implementation\n",
    "    (dtbox.hasParameter, [dtbox.Workflow, dtbox.Implementation], dtbox.Parameter),\n",
    "    (dtbox.specifiesInput, [dtbox.Workflow, dtbox.Implementation], dtbox.IOSpec),\n",
    "    (dtbox.specifiesOutput, [dtbox.Workflow, dtbox.Implementation], dtbox.IOSpec),\n",
    "    # Implementation\n",
    "    (dtbox.hasParameter, dtbox.Implementation, dtbox.Parameter),\n",
    "    (dtbox.hasLearner, dtbox.ApplierImplementation, dtbox.LearnerImplementation),\n",
    "    (dtbox.hasApplier, dtbox.LearnerImplementation, dtbox.ApplierImplementation),\n",
    "    # Component\n",
    "    (dtbox.hasTransformation, dtbox.Component, RDF.List),\n",
    "    (dtbox.hasImplementation, dtbox.Component, dtbox.Implementation),\n",
    "    (dtbox.overridesParameter, dtbox.Component, dtbox.ParameterValue),\n",
    "    (dtbox.exposesParameter, dtbox.Component, dtbox.Parameter),\n",
    "    (dtbox.hasLearner, dtbox.ApplierComponent, dtbox.LearnerComponent),\n",
    "    (dtbox.hasApplier, dtbox.LearnerComponent, dtbox.ApplierComponent),\n",
    "    # Step\n",
    "    (dtbox.followedBy, dtbox.Step, dtbox.Step),\n",
    "    (dtbox.runs, dtbox.Step, [dtbox.Workflow, dtbox.Implementation]),\n",
    "    (dtbox.hasParameterValue, dtbox.Step, dtbox.ParameterValue),\n",
    "    (dtbox.hasInput, dtbox.Step, dtbox.IO),\n",
    "    (dtbox.hasOutput, dtbox.Step, dtbox.IO),\n",
    "    # Parameter\n",
    "    (dtbox.forParameter, dtbox.ParameterValue, dtbox.Parameter),\n",
    "    (dtbox.hasDatatype, dtbox.Parameter, None),\n",
    "    (dtbox.hasDefaultValue, dtbox.Parameter, None),\n",
    "    # Data\n",
    "    # (dtbox.conformsTo, dtbox.Data, dtbox.DataTag),\n",
    "    # IOSpec\n",
    "    (dtbox.hasTag, dtbox.IOSpec, dtbox.DataTag),\n",
    "    # IO\n",
    "    (dtbox.hasData, dtbox.IOSpec, dtbox.Data),\n",
    "]\n",
    "for s, p, o in properties:\n",
    "    add_object_property(ontology, s, p, o)"
   ],
   "metadata": {
    "collapsed": false,
    "ExecuteTime": {
     "end_time": "2023-06-27T18:49:07.524802400Z",
     "start_time": "2023-06-27T18:49:07.485803600Z"
    }
   }
  },
  {
   "cell_type": "code",
   "execution_count": 22,
   "outputs": [
    {
     "data": {
      "text/plain": "<Graph identifier=N48ac93cd4eb947489b87ff139a27a4b6 (<class 'rdflib.graph.Graph'>)>"
     },
     "execution_count": 22,
     "metadata": {},
     "output_type": "execute_result"
    }
   ],
   "source": [
    "ontology.add((dtbox.subProblemOf, RDF.type, OWL.TransitiveProperty))"
   ],
   "metadata": {
    "collapsed": false,
    "ExecuteTime": {
     "end_time": "2023-06-27T18:49:07.533802800Z",
     "start_time": "2023-06-27T18:49:07.495802700Z"
    }
   }
  },
  {
   "cell_type": "markdown",
   "source": [
    "## Datatype Properties"
   ],
   "metadata": {
    "collapsed": false
   }
  },
  {
   "cell_type": "code",
   "execution_count": 23,
   "outputs": [],
   "source": [
    "dproperties = [\n",
    "    # Transformation\n",
    "    (dtbox.copy_input, dtbox.CopyTransformation, XSD.integer),\n",
    "    (dtbox.copy_output, dtbox.CopyTransformation, XSD.integer),\n",
    "    (dtbox.transformation_language, dtbox.Transformation, XSD.string),\n",
    "    (dtbox.transformation_query, dtbox.Transformation, XSD.string),\n",
    "    # IO\n",
    "    (dtbox.has_position, [dtbox.IO, dtbox.IOSpec, dtbox.Step, dtbox.Parameter], XSD.integer),\n",
    "]\n",
    "\n",
    "for s, p, o in dproperties:\n",
    "    add_datatype_property(ontology, s, p, o)"
   ],
   "metadata": {
    "collapsed": false,
    "ExecuteTime": {
     "end_time": "2023-06-27T18:49:07.534802600Z",
     "start_time": "2023-06-27T18:49:07.514802600Z"
    }
   }
  },
  {
   "cell_type": "markdown",
   "source": [
    "## Open Properties (no Range or Domain)"
   ],
   "metadata": {
    "collapsed": false
   }
  },
  {
   "cell_type": "code",
   "execution_count": 24,
   "outputs": [],
   "source": [
    "oproperties = [\n",
    "    (dtbox.has_value, dtbox.ParameterValue, None),\n",
    "]\n",
    "\n",
    "for s, p, o in oproperties:\n",
    "    add_property(ontology, s, p, o)"
   ],
   "metadata": {
    "collapsed": false,
    "ExecuteTime": {
     "end_time": "2023-06-27T18:49:07.545802800Z",
     "start_time": "2023-06-27T18:49:07.528802800Z"
    }
   }
  },
  {
   "cell_type": "markdown",
   "source": [
    "## Data Properties\n",
    "These properties are used temporarily to store information that belongs to the ontology used for data representation"
   ],
   "metadata": {
    "collapsed": false
   }
  },
  {
   "cell_type": "code",
   "execution_count": 25,
   "outputs": [],
   "source": [
    "properties = [\n",
    "    # Column\n",
    "    (dmop.hasColumnName, dmop.ColumnInfoProperty),\n",
    "    (dmop.hasDataPrimitiveTypeColumn, dmop.ColumnInfoProperty),\n",
    "    (dmop.hasPosition, dmop.ColumnInfoProperty),\n",
    "    (dmop.isCategorical, dmop.ColumnInfoProperty),\n",
    "    (dmop.isFeature, dmop.ColumnInfoProperty),\n",
    "    (dmop.isLabel, dmop.ColumnInfoProperty),\n",
    "    (dmop.isUnique, dmop.ColumnInfoProperty),\n",
    "    (dmop.containsNulls, dmop.ColumnValueInfoProperty),\n",
    "    (dmop.hasMeanValue, dmop.ColumnValueInfoProperty),\n",
    "    (dmop.hasStandardDeviation, dmop.ColumnValueInfoProperty),\n",
    "    (dmop.hasMaxValue, dmop.ColumnValueInfoProperty),\n",
    "    (dmop.hasMinValue, dmop.ColumnValueInfoProperty),\n",
    "\n",
    "    # Dataset\n",
    "    (dmop.delimiter, dmop.DatasetPhysicalProperty),\n",
    "    (dmop.doubleQuote, dmop.DatasetPhysicalProperty),\n",
    "    (dmop.encoding, dmop.DatasetPhysicalProperty),\n",
    "    (dmop.fileFormat, dmop.DatasetPhysicalProperty),\n",
    "    (dmop.hasHeader, dmop.DatasetPhysicalProperty),\n",
    "    (dmop.isNormalized, dmop.DatasetValueInfoProperty),\n",
    "    (dmop.lineDelimiter, dmop.DatasetPhysicalProperty),\n",
    "    (dmop.numberOfColumns, dmop.DatasetInfoProperty),\n",
    "    (dmop.numberOfRows, dmop.DatasetInfoProperty),\n",
    "    (dmop.path, dmop.DatasetPhysicalProperty),\n",
    "    (dmop.quoteChar, dmop.DatasetPhysicalProperty),\n",
    "    (dmop.skipInitialSpace, dmop.DatasetPhysicalProperty),\n",
    "]\n",
    "\n",
    "for s, o in properties:\n",
    "    ontology.add((s, RDFS.subPropertyOf, o))"
   ],
   "metadata": {
    "collapsed": false,
    "ExecuteTime": {
     "end_time": "2023-06-27T18:49:07.588802800Z",
     "start_time": "2023-06-27T18:49:07.548802900Z"
    }
   }
  },
  {
   "cell_type": "markdown",
   "source": [
    "## Store"
   ],
   "metadata": {
    "collapsed": false
   }
  },
  {
   "cell_type": "code",
   "execution_count": 26,
   "outputs": [
    {
     "data": {
      "text/plain": "<Graph identifier=N48ac93cd4eb947489b87ff139a27a4b6 (<class 'rdflib.graph.Graph'>)>"
     },
     "execution_count": 26,
     "metadata": {},
     "output_type": "execute_result"
    }
   ],
   "source": [
    "ontology.serialize('../ontologies/tbox.ttl', format='turtle')"
   ],
   "metadata": {
    "collapsed": false,
    "ExecuteTime": {
     "end_time": "2023-06-27T18:49:07.598803100Z",
     "start_time": "2023-06-27T18:49:07.560803900Z"
    }
   }
  }
 ],
 "metadata": {
  "kernelspec": {
   "display_name": "Python 3",
   "language": "python",
   "name": "python3"
  },
  "language_info": {
   "codemirror_mode": {
    "name": "ipython",
    "version": 2
   },
   "file_extension": ".py",
   "mimetype": "text/x-python",
   "name": "python",
   "nbconvert_exporter": "python",
   "pygments_lexer": "ipython2",
   "version": "2.7.6"
  }
 },
 "nbformat": 4,
 "nbformat_minor": 0
}
