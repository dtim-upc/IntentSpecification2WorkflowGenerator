{
 "cells": [
  {
   "cell_type": "code",
   "execution_count": 1,
   "metadata": {
    "collapsed": true,
    "ExecuteTime": {
     "end_time": "2023-07-16T12:23:01.043567100Z",
     "start_time": "2023-07-16T12:23:00.954917400Z"
    }
   },
   "outputs": [],
   "source": [
    "from rdflib.collection import Collection\n",
    "\n",
    "from common import *"
   ]
  },
  {
   "cell_type": "markdown",
   "source": [
    "## Helper Functions"
   ],
   "metadata": {
    "collapsed": false
   }
  },
  {
   "cell_type": "code",
   "execution_count": 2,
   "outputs": [],
   "source": [
    "def add_class(graph, nodes):\n",
    "    l = nodes if isinstance(nodes, list) else [nodes]\n",
    "    for node in l:\n",
    "        graph.add((node, RDF.type, OWL.Class))"
   ],
   "metadata": {
    "collapsed": false,
    "ExecuteTime": {
     "end_time": "2023-07-16T12:23:01.058566500Z",
     "start_time": "2023-07-16T12:23:01.045565600Z"
    }
   }
  },
  {
   "cell_type": "code",
   "execution_count": 3,
   "outputs": [],
   "source": [
    "def add_union(graph, nodes):\n",
    "    sequence = Collection(graph, BNode(), nodes)\n",
    "    union = BNode()\n",
    "    graph.add((union, OWL.unionOf, sequence.uri))\n",
    "    return union"
   ],
   "metadata": {
    "collapsed": false,
    "ExecuteTime": {
     "end_time": "2023-07-16T12:23:01.089564100Z",
     "start_time": "2023-07-16T12:23:01.060567900Z"
    }
   }
  },
  {
   "cell_type": "code",
   "execution_count": 4,
   "outputs": [],
   "source": [
    "def add_object_property(graph, property, domain, range):\n",
    "    graph.add((property, RDF.type, OWL.ObjectProperty))\n",
    "    if domain:\n",
    "        graph.add((property, RDFS.domain, add_union(graph, domain) if isinstance(domain, list) else domain))\n",
    "    if range:\n",
    "        graph.add((property, RDFS.range, add_union(graph, range) if isinstance(range, list) else range))\n",
    "\n",
    "\n",
    "def add_datatype_property(graph, property, domain, range):\n",
    "    if isinstance(range, list):\n",
    "        for r in range:\n",
    "            assert r in XSD\n",
    "    else:\n",
    "        assert range in XSD\n",
    "    graph.add((property, RDF.type, OWL.DatatypeProperty))\n",
    "    if domain:\n",
    "        graph.add((property, RDFS.domain, add_union(graph, domain) if isinstance(domain, list) else domain))\n",
    "    if range:\n",
    "        graph.add((property, RDFS.range, add_union(graph, range) if isinstance(range, list) else range))\n",
    "\n",
    "\n",
    "def add_property(graph, property, domain, range):\n",
    "    graph.add((property, RDF.type, RDF.Property))\n",
    "    if domain:\n",
    "        graph.add((property, RDFS.domain, add_union(graph, domain) if isinstance(domain, list) else domain))\n",
    "    if range:\n",
    "        graph.add((property, RDFS.range, add_union(graph, range) if isinstance(range, list) else range))"
   ],
   "metadata": {
    "collapsed": false,
    "ExecuteTime": {
     "end_time": "2023-07-16T12:23:01.092567200Z",
     "start_time": "2023-07-16T12:23:01.075566900Z"
    }
   }
  },
  {
   "cell_type": "markdown",
   "source": [
    "# Ontology Building"
   ],
   "metadata": {
    "collapsed": false
   }
  },
  {
   "cell_type": "code",
   "execution_count": 5,
   "outputs": [],
   "source": [
    "ontology = get_graph()"
   ],
   "metadata": {
    "collapsed": false,
    "ExecuteTime": {
     "end_time": "2023-07-16T12:23:01.106566800Z",
     "start_time": "2023-07-16T12:23:01.093569900Z"
    }
   }
  },
  {
   "cell_type": "markdown",
   "source": [
    "## Classes"
   ],
   "metadata": {
    "collapsed": false
   }
  },
  {
   "cell_type": "code",
   "execution_count": 6,
   "outputs": [],
   "source": [
    "classes = [\n",
    "    dtbox.Data,\n",
    "    dtbox.Intent,\n",
    "    dtbox.Problem,\n",
    "    dtbox.Algorithm,\n",
    "    dtbox.Workflow,\n",
    "    dtbox.DataTag,\n",
    "    dtbox.Step,\n",
    "    dtbox.Component,\n",
    "    dtbox.LearnerComponent,\n",
    "    dtbox.ApplierComponent,\n",
    "    dtbox.Implementation,\n",
    "    dtbox.LearnerImplementation,\n",
    "    dtbox.ApplierImplementation,\n",
    "    dtbox.Parameter,\n",
    "    dtbox.ParameterValue,\n",
    "    dtbox.Transformation,\n",
    "    dtbox.CopyTransformation,\n",
    "    dtbox.LoaderTransformation,\n",
    "    dtbox.IOSpec,\n",
    "    dtbox.IO,\n",
    "]\n",
    "add_class(ontology, classes)"
   ],
   "metadata": {
    "collapsed": false,
    "ExecuteTime": {
     "end_time": "2023-07-16T12:23:01.128564500Z",
     "start_time": "2023-07-16T12:23:01.110568700Z"
    }
   }
  },
  {
   "cell_type": "code",
   "execution_count": 7,
   "outputs": [
    {
     "data": {
      "text/plain": "<Graph identifier=N6224c1a57c264fb29f4c3b52aefa14c4 (<class 'rdflib.graph.Graph'>)>"
     },
     "execution_count": 7,
     "metadata": {},
     "output_type": "execute_result"
    }
   ],
   "source": [
    "ontology.add((dtbox.CopyTransformation, RDFS.subClassOf, dtbox.Transformation))\n",
    "ontology.add((dtbox.LoaderTransformation, RDFS.subClassOf, dtbox.Transformation))\n",
    "\n",
    "ontology.add((dtbox.LearnerImplementation, RDFS.subClassOf, dtbox.Implementation))\n",
    "ontology.add((dtbox.ApplierImplementation, RDFS.subClassOf, dtbox.Implementation))\n",
    "ontology.add((dtbox.LearnerImplementation, OWL.disjointWith, dtbox.ApplierImplementation))\n",
    "\n",
    "ontology.add((dtbox.LearnerComponent, RDFS.subClassOf, dtbox.Component))\n",
    "ontology.add((dtbox.ApplierComponent, RDFS.subClassOf, dtbox.Component))\n",
    "ontology.add((dtbox.LearnerComponent, OWL.disjointWith, dtbox.ApplierComponent))"
   ],
   "metadata": {
    "collapsed": false,
    "ExecuteTime": {
     "end_time": "2023-07-16T12:23:01.140567800Z",
     "start_time": "2023-07-16T12:23:01.130567800Z"
    }
   }
  },
  {
   "cell_type": "markdown",
   "source": [
    "## Object Properties"
   ],
   "metadata": {
    "collapsed": false
   }
  },
  {
   "cell_type": "code",
   "execution_count": 8,
   "outputs": [],
   "source": [
    "properties = [\n",
    "    # Intent\n",
    "    (dtbox.overData, dtbox.Intent, dtbox.Data),\n",
    "    (dtbox.tackles, dtbox.Intent, [dtbox.Problem, dtbox.Algorithm]),\n",
    "    (dtbox.usingParameter, dtbox.Intent, [dtbox.Parameter, dtbox.ParameterValue]),\n",
    "    (dtbox.createdFor, dtbox.Workflow, dtbox.Intent),\n",
    "    # Problem\n",
    "    (dtbox.subProblemOf, dtbox.Problem, dtbox.Problem),\n",
    "    (dtbox.solves, [dtbox.Algorithm, dtbox.Workflow], dtbox.Problem),\n",
    "    # Workflow\n",
    "    (dtbox.applies, dtbox.Workflow, dtbox.Algorithm),\n",
    "    (dtbox.hasStep, dtbox.Workflow, dtbox.Step),\n",
    "    # Workflow / Implementation\n",
    "    (dtbox.hasParameter, [dtbox.Workflow, dtbox.Implementation], dtbox.Parameter),\n",
    "    (dtbox.specifiesInput, [dtbox.Workflow, dtbox.Implementation], dtbox.IOSpec),\n",
    "    (dtbox.specifiesOutput, [dtbox.Workflow, dtbox.Implementation], dtbox.IOSpec),\n",
    "    # Implementation\n",
    "    (dtbox.hasParameter, dtbox.Implementation, dtbox.Parameter),\n",
    "    (dtbox.hasLearner, dtbox.ApplierImplementation, dtbox.LearnerImplementation),\n",
    "    (dtbox.hasApplier, dtbox.LearnerImplementation, dtbox.ApplierImplementation),\n",
    "    # Component\n",
    "    (dtbox.hasTransformation, dtbox.Component, RDF.List),\n",
    "    (dtbox.hasImplementation, dtbox.Component, dtbox.Implementation),\n",
    "    (dtbox.overridesParameter, dtbox.Component, dtbox.ParameterValue),\n",
    "    (dtbox.exposesParameter, dtbox.Component, dtbox.Parameter),\n",
    "    (dtbox.hasLearner, dtbox.ApplierComponent, dtbox.LearnerComponent),\n",
    "    (dtbox.hasApplier, dtbox.LearnerComponent, dtbox.ApplierComponent),\n",
    "    # Step\n",
    "    (dtbox.followedBy, dtbox.Step, dtbox.Step),\n",
    "    (dtbox.runs, dtbox.Step, [dtbox.Workflow, dtbox.Implementation]),\n",
    "    (dtbox.hasParameterValue, dtbox.Step, dtbox.ParameterValue),\n",
    "    (dtbox.hasInput, dtbox.Step, dtbox.IO),\n",
    "    (dtbox.hasOutput, dtbox.Step, dtbox.IO),\n",
    "    # Parameter\n",
    "    (dtbox.forParameter, dtbox.ParameterValue, dtbox.Parameter),\n",
    "    (dtbox.hasDatatype, dtbox.Parameter, None),\n",
    "    (dtbox.hasDefaultValue, dtbox.Parameter, None),\n",
    "    # Data\n",
    "    # (dtbox.conformsTo, dtbox.Data, dtbox.DataTag),\n",
    "    # IOSpec\n",
    "    (dtbox.hasTag, dtbox.IOSpec, dtbox.DataTag),\n",
    "    # IO\n",
    "    (dtbox.hasData, dtbox.IOSpec, dtbox.Data),\n",
    "]\n",
    "for s, p, o in properties:\n",
    "    add_object_property(ontology, s, p, o)"
   ],
   "metadata": {
    "collapsed": false,
    "ExecuteTime": {
     "end_time": "2023-07-16T12:23:01.185563700Z",
     "start_time": "2023-07-16T12:23:01.149567900Z"
    }
   }
  },
  {
   "cell_type": "code",
   "execution_count": 9,
   "outputs": [
    {
     "data": {
      "text/plain": "<Graph identifier=N6224c1a57c264fb29f4c3b52aefa14c4 (<class 'rdflib.graph.Graph'>)>"
     },
     "execution_count": 9,
     "metadata": {},
     "output_type": "execute_result"
    }
   ],
   "source": [
    "ontology.add((dtbox.subProblemOf, RDF.type, OWL.TransitiveProperty))"
   ],
   "metadata": {
    "collapsed": false,
    "ExecuteTime": {
     "end_time": "2023-07-16T12:23:01.196564500Z",
     "start_time": "2023-07-16T12:23:01.156567200Z"
    }
   }
  },
  {
   "cell_type": "markdown",
   "source": [
    "## Datatype Properties"
   ],
   "metadata": {
    "collapsed": false
   }
  },
  {
   "cell_type": "code",
   "execution_count": 10,
   "outputs": [],
   "source": [
    "dproperties = [\n",
    "    # Transformation\n",
    "    (dtbox.copy_input, dtbox.CopyTransformation, XSD.integer),\n",
    "    (dtbox.copy_output, dtbox.CopyTransformation, XSD.integer),\n",
    "    (dtbox.transformation_language, dtbox.Transformation, XSD.string),\n",
    "    (dtbox.transformation_query, dtbox.Transformation, XSD.string),\n",
    "    # IO\n",
    "    (dtbox.has_position, [dtbox.IO, dtbox.IOSpec, dtbox.Step, dtbox.Parameter], XSD.integer),\n",
    "]\n",
    "\n",
    "for s, p, o in dproperties:\n",
    "    add_datatype_property(ontology, s, p, o)"
   ],
   "metadata": {
    "collapsed": false,
    "ExecuteTime": {
     "end_time": "2023-07-16T12:23:01.197564400Z",
     "start_time": "2023-07-16T12:23:01.185563700Z"
    }
   }
  },
  {
   "cell_type": "markdown",
   "source": [
    "## Open Properties (no Range or Domain)"
   ],
   "metadata": {
    "collapsed": false
   }
  },
  {
   "cell_type": "code",
   "execution_count": 11,
   "outputs": [],
   "source": [
    "oproperties = [\n",
    "    (dtbox.has_value, dtbox.ParameterValue, None),\n",
    "]\n",
    "\n",
    "for s, p, o in oproperties:\n",
    "    add_property(ontology, s, p, o)"
   ],
   "metadata": {
    "collapsed": false,
    "ExecuteTime": {
     "end_time": "2023-07-16T12:23:01.205564800Z",
     "start_time": "2023-07-16T12:23:01.188568700Z"
    }
   }
  },
  {
   "cell_type": "markdown",
   "source": [
    "## Data Properties\n",
    "These properties are used temporarily to store information that belongs to the ontology used for data representation"
   ],
   "metadata": {
    "collapsed": false
   }
  },
  {
   "cell_type": "code",
   "execution_count": 12,
   "outputs": [],
   "source": [
    "properties = [\n",
    "    # Column\n",
    "    (dmop.hasColumnName, dmop.ColumnInfoProperty),\n",
    "    (dmop.hasDataPrimitiveTypeColumn, dmop.ColumnInfoProperty),\n",
    "    (dmop.hasPosition, dmop.ColumnInfoProperty),\n",
    "    (dmop.isCategorical, dmop.ColumnInfoProperty),\n",
    "    (dmop.isFeature, dmop.ColumnInfoProperty),\n",
    "    (dmop.isLabel, dmop.ColumnInfoProperty),\n",
    "    (dmop.isUnique, dmop.ColumnInfoProperty),\n",
    "    (dmop.containsNulls, dmop.ColumnValueInfoProperty),\n",
    "    (dmop.hasMeanValue, dmop.ColumnValueInfoProperty),\n",
    "    (dmop.hasStandardDeviation, dmop.ColumnValueInfoProperty),\n",
    "    (dmop.hasMaxValue, dmop.ColumnValueInfoProperty),\n",
    "    (dmop.hasMinValue, dmop.ColumnValueInfoProperty),\n",
    "\n",
    "    # Dataset\n",
    "    (dmop.delimiter, dmop.DatasetPhysicalProperty),\n",
    "    (dmop.doubleQuote, dmop.DatasetPhysicalProperty),\n",
    "    (dmop.encoding, dmop.DatasetPhysicalProperty),\n",
    "    (dmop.fileFormat, dmop.DatasetPhysicalProperty),\n",
    "    (dmop.hasHeader, dmop.DatasetPhysicalProperty),\n",
    "    (dmop.isNormalized, dmop.DatasetValueInfoProperty),\n",
    "    (dmop.lineDelimiter, dmop.DatasetPhysicalProperty),\n",
    "    (dmop.numberOfColumns, dmop.DatasetInfoProperty),\n",
    "    (dmop.numberOfRows, dmop.DatasetInfoProperty),\n",
    "    (dmop.path, dmop.DatasetPhysicalProperty),\n",
    "    (dmop.quoteChar, dmop.DatasetPhysicalProperty),\n",
    "    (dmop.skipInitialSpace, dmop.DatasetPhysicalProperty),\n",
    "]\n",
    "\n",
    "for s, o in properties:\n",
    "    ontology.add((s, RDFS.subPropertyOf, o))"
   ],
   "metadata": {
    "collapsed": false,
    "ExecuteTime": {
     "end_time": "2023-07-16T12:23:01.249564Z",
     "start_time": "2023-07-16T12:23:01.207564900Z"
    }
   }
  },
  {
   "cell_type": "markdown",
   "source": [
    "## Store"
   ],
   "metadata": {
    "collapsed": false
   }
  },
  {
   "cell_type": "code",
   "execution_count": 13,
   "outputs": [
    {
     "data": {
      "text/plain": "<Graph identifier=N6224c1a57c264fb29f4c3b52aefa14c4 (<class 'rdflib.graph.Graph'>)>"
     },
     "execution_count": 13,
     "metadata": {},
     "output_type": "execute_result"
    }
   ],
   "source": [
    "ontology.serialize('../ontologies/tbox.ttl', format='turtle')"
   ],
   "metadata": {
    "collapsed": false,
    "ExecuteTime": {
     "end_time": "2023-07-16T12:23:01.259564800Z",
     "start_time": "2023-07-16T12:23:01.220568200Z"
    }
   }
  }
 ],
 "metadata": {
  "kernelspec": {
   "display_name": "Python 3",
   "language": "python",
   "name": "python3"
  },
  "language_info": {
   "codemirror_mode": {
    "name": "ipython",
    "version": 2
   },
   "file_extension": ".py",
   "mimetype": "text/x-python",
   "name": "python",
   "nbconvert_exporter": "python",
   "pygments_lexer": "ipython2",
   "version": "2.7.6"
  }
 },
 "nbformat": 4,
 "nbformat_minor": 0
}
